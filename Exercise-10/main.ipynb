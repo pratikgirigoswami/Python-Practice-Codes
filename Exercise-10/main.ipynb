{
 "cells": [
  {
   "cell_type": "markdown",
   "metadata": {},
   "source": [
    "PART - 1 : SQL LITE"
   ]
  },
  {
   "cell_type": "code",
   "execution_count": 24,
   "metadata": {},
   "outputs": [],
   "source": [
    "import sqlite3\n",
    "conn = sqlite3.connect('mydatabase.db')\n",
    "cursor = conn.cursor()\n",
    "sql = '''CREATE TABLE PATIENT(BED_NUM INT, FIRST_NAME CHAR(20) NOT NULL, LAST_NAME CHAR(20) NOT NULL, DISEASE CHAR(20) NOT NULL, SEX CHAR(1))'''\n",
    "cursor.execute(sql)\n",
    "conn.commit()"
   ]
  },
  {
   "cell_type": "code",
   "execution_count": 26,
   "metadata": {},
   "outputs": [],
   "source": [
    "cursor.execute('''INSERT INTO PATIENT(BED_NUM, FIRST_NAME, LAST_NAME, DISEASE, SEX) VALUES('1','PRATIK','GOSWAMI','COVID19','M')''')\n",
    "cursor.execute('''INSERT INTO PATIENT(BED_NUM, FIRST_NAME, LAST_NAME, DISEASE, SEX) VALUES('3','AMANDEEP','RATHEE','DENGUE FEVER','M')''')\n",
    "cursor.execute('''INSERT INTO PATIENT(BED_NUM, FIRST_NAME, LAST_NAME, DISEASE, SEX) VALUES('8','FAHAD','AHMED','YELLOW FEVER','M')''')\n",
    "cursor.execute('''INSERT INTO PATIENT(BED_NUM, FIRST_NAME, LAST_NAME, DISEASE, SEX) VALUES('4','PRACHI','LAKHANI','JAUNDICE','F')''')\n",
    "cursor.execute('''INSERT INTO PATIENT(BED_NUM, FIRST_NAME, LAST_NAME, DISEASE, SEX) VALUES('5','RABJOT','SINGH','COVID19','M')''')\n",
    "cursor.execute('''INSERT INTO PATIENT(BED_NUM, FIRST_NAME, LAST_NAME, DISEASE, SEX) VALUES('7','DANIEL','CORREIA','ALLERGY','M')''')\n",
    "cursor.execute('''INSERT INTO PATIENT(BED_NUM, FIRST_NAME, LAST_NAME, DISEASE, SEX) VALUES('6','ROHIT','NANAVATI','COVID19','M')''')\n",
    "cursor.execute('''INSERT INTO PATIENT(BED_NUM, FIRST_NAME, LAST_NAME, DISEASE, SEX) VALUES('9','POOJA','PATEL','FLU','F')''')\n",
    "cursor.execute('''INSERT INTO PATIENT(BED_NUM, FIRST_NAME, LAST_NAME, DISEASE, SEX) VALUES('2','SANJANA','BALE','COUGH & COLD','F')''')\n",
    "cursor.execute('''INSERT INTO PATIENT(BED_NUM, FIRST_NAME, LAST_NAME, DISEASE, SEX) VALUES('10','ALIA','BHATT','JAUNDICE','F')''')\n",
    "conn.commit()"
   ]
  },
  {
   "cell_type": "code",
   "execution_count": 27,
   "metadata": {},
   "outputs": [
    {
     "name": "stdout",
     "output_type": "stream",
     "text": [
      "   BED_NUM FIRST_NAME LAST_NAME       DISEASE SEX\n",
      "0        1     PRATIK   GOSWAMI       COVID19   M\n",
      "1        3   AMANDEEP    RATHEE  DENGUE FEVER   M\n",
      "2        8      FAHAD     AHMED  YELLOW FEVER   M\n",
      "3        4     PRACHI   LAKHANI      JAUNDICE   F\n",
      "4        5     RABJOT     SINGH       COVID19   M\n",
      "5        7     DANIEL   CORREIA       ALLERGY   M\n",
      "6        6      ROHIT  NANAVATI       COVID19   M\n",
      "7        9      POOJA     PATEL           FLU   F\n",
      "8        2    SANJANA      BALE  COUGH & COLD   F\n",
      "9       10       ALIA     BHATT      JAUNDICE   F\n"
     ]
    }
   ],
   "source": [
    "import pandas as pd\n",
    "df = pd.read_sql_query(\"SELECT * FROM PATIENT\", conn)\n",
    "print(df)"
   ]
  },
  {
   "cell_type": "code",
   "execution_count": 28,
   "metadata": {},
   "outputs": [
    {
     "name": "stdout",
     "output_type": "stream",
     "text": [
      "(1, 'PRATIK', 'GOSWAMI', 'COVID19', 'M')\n"
     ]
    }
   ],
   "source": [
    "cursor.execute('''SELECT * from PATIENT''') #SYMBOL * FOR ALL COLUMNS\n",
    "result = cursor.fetchone();\n",
    "print(result)"
   ]
  },
  {
   "cell_type": "code",
   "execution_count": 29,
   "metadata": {},
   "outputs": [
    {
     "name": "stdout",
     "output_type": "stream",
     "text": [
      "[(3, 'AMANDEEP', 'RATHEE', 'DENGUE FEVER', 'M'), (8, 'FAHAD', 'AHMED', 'YELLOW FEVER', 'M')]\n"
     ]
    }
   ],
   "source": [
    "result = cursor.fetchmany(2);\n",
    "print(result)"
   ]
  },
  {
   "cell_type": "code",
   "execution_count": 30,
   "metadata": {},
   "outputs": [
    {
     "name": "stdout",
     "output_type": "stream",
     "text": [
      "[(4, 'PRACHI', 'LAKHANI', 'JAUNDICE', 'F'), (5, 'RABJOT', 'SINGH', 'COVID19', 'M'), (7, 'DANIEL', 'CORREIA', 'ALLERGY', 'M'), (6, 'ROHIT', 'NANAVATI', 'COVID19', 'M'), (9, 'POOJA', 'PATEL', 'FLU', 'F'), (2, 'SANJANA', 'BALE', 'COUGH & COLD', 'F'), (10, 'ALIA', 'BHATT', 'JAUNDICE', 'F')]\n"
     ]
    }
   ],
   "source": [
    "result = cursor.fetchall();\n",
    "print(result)"
   ]
  },
  {
   "cell_type": "code",
   "execution_count": 31,
   "metadata": {},
   "outputs": [
    {
     "name": "stdout",
     "output_type": "stream",
     "text": [
      "[(1, 'PRATIK', 'GOSWAMI', 'COVID19', 'M'), (3, 'AMANDEEP', 'RATHEE', 'DENGUE FEVER', 'M'), (8, 'FAHAD', 'AHMED', 'YELLOW FEVER', 'M'), (6, 'PRACHI', 'LAKHANI', 'JAUNDICE', 'F'), (5, 'RABJOT', 'SINGH', 'COVID19', 'M'), (7, 'DANIEL', 'CORREIA', 'ALLERGY', 'M'), (6, 'ROHIT', 'NANAVATI', 'COVID19', 'M'), (11, 'POOJA', 'PATEL', 'FLU', 'F'), (4, 'SANJANA', 'BALE', 'COUGH & COLD', 'F'), (12, 'ALIA', 'BHATT', 'JAUNDICE', 'F')]\n"
     ]
    }
   ],
   "source": [
    "sql = '''UPDATE PATIENT SET BED_NUM=BED_NUM+2 WHERE SEX='F' '''\n",
    "cursor.execute(sql)\n",
    "conn.commit()\n",
    "cursor.execute('''SELECT * from PATIENT''')\n",
    "result = cursor.fetchall();\n",
    "print(result)"
   ]
  },
  {
   "cell_type": "code",
   "execution_count": 32,
   "metadata": {},
   "outputs": [
    {
     "name": "stdout",
     "output_type": "stream",
     "text": [
      "[(1, 'PRATIK', 'GOSWAMI', 'COVID19', 'M'), (3, 'AMANDEEP', 'RATHEE', 'DENGUE FEVER', 'M'), (8, 'FAHAD', 'AHMED', 'YELLOW FEVER', 'M'), (5, 'RABJOT', 'SINGH', 'COVID19', 'M'), (7, 'DANIEL', 'CORREIA', 'ALLERGY', 'M'), (6, 'ROHIT', 'NANAVATI', 'COVID19', 'M')]\n"
     ]
    }
   ],
   "source": [
    "sql = '''DELETE FROM PATIENT WHERE SEX='F' '''\n",
    "cursor.execute(sql)\n",
    "conn.commit()\n",
    "cursor.execute('''SELECT * from PATIENT''')\n",
    "result = cursor.fetchall();\n",
    "print(result)"
   ]
  },
  {
   "cell_type": "code",
   "execution_count": 33,
   "metadata": {},
   "outputs": [
    {
     "name": "stdout",
     "output_type": "stream",
     "text": [
      "   BED_NUM FIRST_NAME LAST_NAME       DISEASE SEX\n",
      "0        1     PRATIK   GOSWAMI       COVID19   M\n",
      "1        3   AMANDEEP    RATHEE  DENGUE FEVER   M\n",
      "2        8      FAHAD     AHMED  YELLOW FEVER   M\n",
      "3        5     RABJOT     SINGH       COVID19   M\n",
      "4        7     DANIEL   CORREIA       ALLERGY   M\n",
      "5        6      ROHIT  NANAVATI       COVID19   M\n"
     ]
    }
   ],
   "source": [
    "import pandas as pd\n",
    "df = pd.read_sql_query(\"SELECT * FROM PATIENT\", conn)\n",
    "print(df)"
   ]
  },
  {
   "cell_type": "markdown",
   "metadata": {},
   "source": [
    "PART - 2 : NoSQL DATABASE - MONGODB"
   ]
  },
  {
   "cell_type": "code",
   "execution_count": 1,
   "metadata": {},
   "outputs": [
    {
     "name": "stdout",
     "output_type": "stream",
     "text": [
      "[{'BED_NUM': '1', 'FIRST_NAME': 'PRATIK', 'LAST_NAME': 'GOSWAMI', 'DISEASE': 'COVID19', 'SEVERITY': 'HIGH'}, {'BED_NUM': '2', 'FIRST_NAME': 'AMANDEEP', 'LAST_NAME': 'RATHEE', 'DISEASE': 'DENGUE FEVER', 'SEVERITY': 'MED'}]\n"
     ]
    }
   ],
   "source": [
    "my_dict = [\n",
    "    {'BED_NUM':'1','FIRST_NAME':'PRATIK','LAST_NAME':'GOSWAMI','DISEASE':'COVID19','SEVERITY':'HIGH'},\n",
    "    {'BED_NUM':'2','FIRST_NAME':'AMANDEEP','LAST_NAME':'RATHEE','DISEASE':'DENGUE FEVER','SEVERITY':'MED'}\n",
    "]\n",
    "print(my_dict)"
   ]
  },
  {
   "cell_type": "code",
   "execution_count": 4,
   "metadata": {},
   "outputs": [],
   "source": [
    "import pymongo\n",
    "from pymongo import MongoClient\n",
    "myclient = MongoClient()\n",
    "mydb = myclient.test\n",
    "hosp = mydb.hosp"
   ]
  },
  {
   "cell_type": "code",
   "execution_count": 5,
   "metadata": {},
   "outputs": [],
   "source": [
    "rslt = hosp.insert_many(my_dict)"
   ]
  },
  {
   "cell_type": "code",
   "execution_count": 6,
   "metadata": {},
   "outputs": [],
   "source": [
    "my_dict_1 = {'BED_NUM':'3','FIRST_NAME':'RABJOT','LAST_NAME':'SINGH','DISEASE':'YELLOW FEVER','SEVERITY':'LOW'}"
   ]
  },
  {
   "cell_type": "code",
   "execution_count": 7,
   "metadata": {},
   "outputs": [],
   "source": [
    "rslt = hosp.insert_one(my_dict_1)"
   ]
  },
  {
   "cell_type": "code",
   "execution_count": 8,
   "metadata": {},
   "outputs": [],
   "source": [
    "my_dict_2 = [\n",
    "    {'BED_NUM':'4','FIRST_NAME':'JOHN','LAST_NAME':'CENA','DISEASE':'COVID19','SEVERITY':'HIGH'},\n",
    "    {'BED_NUM':'5','FIRST_NAME':'DANIEL','LAST_NAME':'CORREIA','DISEASE':'JAUNDICE','SEVERITY':'MED'},\n",
    "    {'BED_NUM':'6','FIRST_NAME':'FAHAD','LAST_NAME':'AHMED','DISEASE':'COUGH & COLD','SEVERITY':'LOW'},\n",
    "    {'BED_NUM':'7','FIRST_NAME':'SANJANA','LAST_NAME':'BALE','DISEASE':'STOMACH ACHE','SEVERITY':'LOW'},\n",
    "    {'BED_NUM':'8','FIRST_NAME':'POOJA','LAST_NAME':'PATEL','DISEASE':'COVID19','SEVERITY':'HIGH'},\n",
    "    {'BED_NUM':'9','FIRST_NAME':'JAIMIN','LAST_NAME':'PATEL','DISEASE':'ALLERGY','SEVERITY':'LOW'},\n",
    "    {'BED_NUM':'10','FIRST_NAME':'NEHALKUMAR','LAST_NAME':'JESADIYA','DISEASE':'COVID19','SEVERITY':'MID'}\n",
    "]"
   ]
  },
  {
   "cell_type": "code",
   "execution_count": 9,
   "metadata": {},
   "outputs": [],
   "source": [
    "rslt = hosp.insert_many(my_dict_2)"
   ]
  },
  {
   "cell_type": "code",
   "execution_count": 10,
   "metadata": {},
   "outputs": [
    {
     "name": "stdout",
     "output_type": "stream",
     "text": [
      "{'_id': ObjectId('60b1c9ff0b1c78fb875c0ece'), 'BED_NUM': '1', 'FIRST_NAME': 'PRATIK', 'LAST_NAME': 'GOSWAMI', 'DISEASE': 'COVID19', 'SEVERITY': 'HIGH'}\n",
      "{'_id': ObjectId('60b1c9ff0b1c78fb875c0ecf'), 'BED_NUM': '2', 'FIRST_NAME': 'AMANDEEP', 'LAST_NAME': 'RATHEE', 'DISEASE': 'DENGUE FEVER', 'SEVERITY': 'MED'}\n",
      "{'_id': ObjectId('60b4a7a4f7ed0b60cfd00ce8'), 'BED_NUM': '1', 'FIRST_NAME': 'PRATIK', 'LAST_NAME': 'GOSWAMI', 'DISEASE': 'COVID19', 'SEVERITY': 'HIGH'}\n",
      "{'_id': ObjectId('60b4a7a4f7ed0b60cfd00ce9'), 'BED_NUM': '2', 'FIRST_NAME': 'AMANDEEP', 'LAST_NAME': 'RATHEE', 'DISEASE': 'DENGUE FEVER', 'SEVERITY': 'MED'}\n",
      "{'_id': ObjectId('60b4a820f7ed0b60cfd00cea'), 'BED_NUM': '3', 'FIRST_NAME': 'RABJOT', 'LAST_NAME': 'SINGH', 'DISEASE': 'YELLOW FEVER', 'SEVERITY': 'LOW'}\n",
      "{'_id': ObjectId('60b4a9a1f7ed0b60cfd00ceb'), 'BED_NUM': '4', 'FIRST_NAME': 'JOHN', 'LAST_NAME': 'CENA', 'DISEASE': 'COVID19', 'SEVERITY': 'HIGH'}\n",
      "{'_id': ObjectId('60b4a9a1f7ed0b60cfd00cec'), 'BED_NUM': '5', 'FIRST_NAME': 'DANIEL', 'LAST_NAME': 'CORREIA', 'DISEASE': 'JAUNDICE', 'SEVERITY': 'MED'}\n",
      "{'_id': ObjectId('60b4a9a1f7ed0b60cfd00ced'), 'BED_NUM': '6', 'FIRST_NAME': 'FAHAD', 'LAST_NAME': 'AHMED', 'DISEASE': 'COUGH & COLD', 'SEVERITY': 'LOW'}\n",
      "{'_id': ObjectId('60b4a9a1f7ed0b60cfd00cee'), 'BED_NUM': '7', 'FIRST_NAME': 'SANJANA', 'LAST_NAME': 'BALE', 'DISEASE': 'STOMACH ACHE', 'SEVERITY': 'LOW'}\n",
      "{'_id': ObjectId('60b4a9a1f7ed0b60cfd00cef'), 'BED_NUM': '8', 'FIRST_NAME': 'POOJA', 'LAST_NAME': 'PATEL', 'DISEASE': 'COVID19', 'SEVERITY': 'HIGH'}\n",
      "{'_id': ObjectId('60b4a9a1f7ed0b60cfd00cf0'), 'BED_NUM': '9', 'FIRST_NAME': 'JAIMIN', 'LAST_NAME': 'PATEL', 'DISEASE': 'ALLERGY', 'SEVERITY': 'LOW'}\n",
      "{'_id': ObjectId('60b4a9a1f7ed0b60cfd00cf1'), 'BED_NUM': '10', 'FIRST_NAME': 'NEHALKUMAR', 'LAST_NAME': 'JESADIYA', 'DISEASE': 'COVID19', 'SEVERITY': 'MID'}\n"
     ]
    }
   ],
   "source": [
    "for x in hosp.find():\n",
    "    print(x)"
   ]
  },
  {
   "cell_type": "code",
   "execution_count": 14,
   "metadata": {},
   "outputs": [
    {
     "data": {
      "text/plain": [
       "<pymongo.results.UpdateResult at 0x10c2846d680>"
      ]
     },
     "execution_count": 14,
     "metadata": {},
     "output_type": "execute_result"
    }
   ],
   "source": [
    "mydb.hosp.update_one({'BED_NUM':'10'},{\"$set\":{'SEVERITY':'HIGH'}})"
   ]
  },
  {
   "cell_type": "code",
   "execution_count": 15,
   "metadata": {},
   "outputs": [
    {
     "name": "stdout",
     "output_type": "stream",
     "text": [
      "{'_id': ObjectId('60b1c9ff0b1c78fb875c0ece'), 'BED_NUM': '1', 'FIRST_NAME': 'PRATIK', 'LAST_NAME': 'GOSWAMI', 'DISEASE': 'COVID19', 'SEVERITY': 'HIGH'}\n",
      "{'_id': ObjectId('60b1c9ff0b1c78fb875c0ecf'), 'BED_NUM': '2', 'FIRST_NAME': 'AMANDEEP', 'LAST_NAME': 'RATHEE', 'DISEASE': 'DENGUE FEVER', 'SEVERITY': 'MED'}\n",
      "{'_id': ObjectId('60b4a7a4f7ed0b60cfd00ce8'), 'BED_NUM': '1', 'FIRST_NAME': 'PRATIK', 'LAST_NAME': 'GOSWAMI', 'DISEASE': 'COVID19', 'SEVERITY': 'HIGH'}\n",
      "{'_id': ObjectId('60b4a7a4f7ed0b60cfd00ce9'), 'BED_NUM': '2', 'FIRST_NAME': 'AMANDEEP', 'LAST_NAME': 'RATHEE', 'DISEASE': 'DENGUE FEVER', 'SEVERITY': 'MED'}\n",
      "{'_id': ObjectId('60b4a820f7ed0b60cfd00cea'), 'BED_NUM': '3', 'FIRST_NAME': 'RABJOT', 'LAST_NAME': 'SINGH', 'DISEASE': 'YELLOW FEVER', 'SEVERITY': 'LOW'}\n",
      "{'_id': ObjectId('60b4a9a1f7ed0b60cfd00ceb'), 'BED_NUM': '4', 'FIRST_NAME': 'JOHN', 'LAST_NAME': 'CENA', 'DISEASE': 'COVID19', 'SEVERITY': 'HIGH'}\n",
      "{'_id': ObjectId('60b4a9a1f7ed0b60cfd00cec'), 'BED_NUM': '5', 'FIRST_NAME': 'DANIEL', 'LAST_NAME': 'CORREIA', 'DISEASE': 'JAUNDICE', 'SEVERITY': 'MED'}\n",
      "{'_id': ObjectId('60b4a9a1f7ed0b60cfd00ced'), 'BED_NUM': '6', 'FIRST_NAME': 'FAHAD', 'LAST_NAME': 'AHMED', 'DISEASE': 'COUGH & COLD', 'SEVERITY': 'LOW'}\n",
      "{'_id': ObjectId('60b4a9a1f7ed0b60cfd00cee'), 'BED_NUM': '7', 'FIRST_NAME': 'SANJANA', 'LAST_NAME': 'BALE', 'DISEASE': 'STOMACH ACHE', 'SEVERITY': 'LOW'}\n",
      "{'_id': ObjectId('60b4a9a1f7ed0b60cfd00cef'), 'BED_NUM': '8', 'FIRST_NAME': 'POOJA', 'LAST_NAME': 'PATEL', 'DISEASE': 'COVID19', 'SEVERITY': 'HIGH'}\n",
      "{'_id': ObjectId('60b4a9a1f7ed0b60cfd00cf0'), 'BED_NUM': '9', 'FIRST_NAME': 'JAIMIN', 'LAST_NAME': 'PATEL', 'DISEASE': 'ALLERGY', 'SEVERITY': 'LOW'}\n",
      "{'_id': ObjectId('60b4a9a1f7ed0b60cfd00cf1'), 'BED_NUM': '10', 'FIRST_NAME': 'NEHALKUMAR', 'LAST_NAME': 'JESADIYA', 'DISEASE': 'COVID19', 'SEVERITY': 'HIGH'}\n"
     ]
    }
   ],
   "source": [
    "for x in hosp.find():\n",
    "    print(x)"
   ]
  },
  {
   "cell_type": "code",
   "execution_count": 20,
   "metadata": {},
   "outputs": [
    {
     "data": {
      "text/plain": [
       "<pymongo.results.DeleteResult at 0x10c27f2d3c0>"
      ]
     },
     "execution_count": 20,
     "metadata": {},
     "output_type": "execute_result"
    }
   ],
   "source": [
    "mydb.hosp.delete_many({'DISEASE':'COVID19'})"
   ]
  },
  {
   "cell_type": "code",
   "execution_count": 21,
   "metadata": {},
   "outputs": [
    {
     "name": "stdout",
     "output_type": "stream",
     "text": [
      "{'_id': ObjectId('60b1c9ff0b1c78fb875c0ecf'), 'BED_NUM': '2', 'FIRST_NAME': 'AMANDEEP', 'LAST_NAME': 'RATHEE', 'DISEASE': 'DENGUE FEVER', 'SEVERITY': 'MED'}\n",
      "{'_id': ObjectId('60b4a7a4f7ed0b60cfd00ce9'), 'BED_NUM': '2', 'FIRST_NAME': 'AMANDEEP', 'LAST_NAME': 'RATHEE', 'DISEASE': 'DENGUE FEVER', 'SEVERITY': 'MED'}\n",
      "{'_id': ObjectId('60b4a820f7ed0b60cfd00cea'), 'BED_NUM': '3', 'FIRST_NAME': 'RABJOT', 'LAST_NAME': 'SINGH', 'DISEASE': 'YELLOW FEVER', 'SEVERITY': 'LOW'}\n",
      "{'_id': ObjectId('60b4a9a1f7ed0b60cfd00cec'), 'BED_NUM': '5', 'FIRST_NAME': 'DANIEL', 'LAST_NAME': 'CORREIA', 'DISEASE': 'JAUNDICE', 'SEVERITY': 'MED'}\n",
      "{'_id': ObjectId('60b4a9a1f7ed0b60cfd00ced'), 'BED_NUM': '6', 'FIRST_NAME': 'FAHAD', 'LAST_NAME': 'AHMED', 'DISEASE': 'COUGH & COLD', 'SEVERITY': 'LOW'}\n",
      "{'_id': ObjectId('60b4a9a1f7ed0b60cfd00cee'), 'BED_NUM': '7', 'FIRST_NAME': 'SANJANA', 'LAST_NAME': 'BALE', 'DISEASE': 'STOMACH ACHE', 'SEVERITY': 'LOW'}\n",
      "{'_id': ObjectId('60b4a9a1f7ed0b60cfd00cf0'), 'BED_NUM': '9', 'FIRST_NAME': 'JAIMIN', 'LAST_NAME': 'PATEL', 'DISEASE': 'ALLERGY', 'SEVERITY': 'LOW'}\n"
     ]
    }
   ],
   "source": [
    "for x in hosp.find():\n",
    "    print(x)"
   ]
  },
  {
   "cell_type": "code",
   "execution_count": 22,
   "metadata": {},
   "outputs": [
    {
     "name": "stdout",
     "output_type": "stream",
     "text": [
      "{'_id': ObjectId('60b1c9ff0b1c78fb875c0ecf'), 'BED_NUM': '2', 'FIRST_NAME': 'AMANDEEP', 'LAST_NAME': 'RATHEE', 'DISEASE': 'DENGUE FEVER', 'SEVERITY': 'MED'}\n",
      "{'_id': ObjectId('60b4a7a4f7ed0b60cfd00ce9'), 'BED_NUM': '2', 'FIRST_NAME': 'AMANDEEP', 'LAST_NAME': 'RATHEE', 'DISEASE': 'DENGUE FEVER', 'SEVERITY': 'MED'}\n",
      "{'_id': ObjectId('60b4a9a1f7ed0b60cfd00cec'), 'BED_NUM': '5', 'FIRST_NAME': 'DANIEL', 'LAST_NAME': 'CORREIA', 'DISEASE': 'JAUNDICE', 'SEVERITY': 'MED'}\n",
      "{'_id': ObjectId('60b4a9a1f7ed0b60cfd00ced'), 'BED_NUM': '6', 'FIRST_NAME': 'FAHAD', 'LAST_NAME': 'AHMED', 'DISEASE': 'COUGH & COLD', 'SEVERITY': 'LOW'}\n",
      "{'_id': ObjectId('60b4a9a1f7ed0b60cfd00cee'), 'BED_NUM': '7', 'FIRST_NAME': 'SANJANA', 'LAST_NAME': 'BALE', 'DISEASE': 'STOMACH ACHE', 'SEVERITY': 'LOW'}\n",
      "{'_id': ObjectId('60b4a9a1f7ed0b60cfd00cf0'), 'BED_NUM': '9', 'FIRST_NAME': 'JAIMIN', 'LAST_NAME': 'PATEL', 'DISEASE': 'ALLERGY', 'SEVERITY': 'LOW'}\n"
     ]
    }
   ],
   "source": [
    "mydb.hosp.delete_many({'BED_NUM':'3'})\n",
    "for x in hosp.find():\n",
    "    print(x)"
   ]
  },
  {
   "cell_type": "code",
   "execution_count": null,
   "metadata": {},
   "outputs": [],
   "source": []
  }
 ],
 "metadata": {
  "kernelspec": {
   "display_name": "Python 3",
   "language": "python",
   "name": "python3"
  },
  "language_info": {
   "codemirror_mode": {
    "name": "ipython",
    "version": 3
   },
   "file_extension": ".py",
   "mimetype": "text/x-python",
   "name": "python",
   "nbconvert_exporter": "python",
   "pygments_lexer": "ipython3",
   "version": "3.8.5"
  }
 },
 "nbformat": 4,
 "nbformat_minor": 4
}
